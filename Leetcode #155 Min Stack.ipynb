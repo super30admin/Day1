{
 "cells": [
  {
   "cell_type": "code",
   "execution_count": null,
   "id": "ee709f64",
   "metadata": {},
   "outputs": [],
   "source": [
    "class MinStack:\n",
    "\n",
    "    def __init__(self):\n",
    "        self.stack = []\n",
    "        self.min_stack = []\n",
    "        self.min_value = inf\n",
    "        \n",
    "    # TC = O(1) \n",
    "    def push(self, val: int) -> None:\n",
    "        self.min_value = min(self.min_value, val)\n",
    "        self.stack.append(val)\n",
    "        self.min_stack.append(self.min_value)\n",
    "\n",
    "    # TC = O(1)\n",
    "    def pop(self) -> None:\n",
    "        self.stack.pop()\n",
    "        self.min_stack.pop()\n",
    "        if len(self.min_stack) == 0:\n",
    "            self.min_value = inf\n",
    "        else:\n",
    "            self.min_value = self.min_stack[-1]\n",
    "        #print(\"pop\", self.min_value)\n",
    "        \n",
    "    def top(self) -> int:\n",
    "        return self.stack[-1]\n",
    "    \n",
    "    # TC = O(n)\n",
    "    def getMin(self) -> int:\n",
    "        return self.min_value\n",
    "    \n",
    "# Your MinStack object will be instantiated and called as such:\n",
    "# obj = MinStack()\n",
    "# obj.push(val)\n",
    "# obj.pop()\n",
    "# param_3 = obj.top()\n",
    "# param_4 = obj.getMin()"
   ]
  }
 ],
 "metadata": {
  "kernelspec": {
   "display_name": "Python 3 (ipykernel)",
   "language": "python",
   "name": "python3"
  },
  "language_info": {
   "codemirror_mode": {
    "name": "ipython",
    "version": 3
   },
   "file_extension": ".py",
   "mimetype": "text/x-python",
   "name": "python",
   "nbconvert_exporter": "python",
   "pygments_lexer": "ipython3",
   "version": "3.10.4"
  }
 },
 "nbformat": 4,
 "nbformat_minor": 5
}
